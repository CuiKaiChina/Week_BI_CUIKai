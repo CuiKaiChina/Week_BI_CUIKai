{
 "cells": [
  {
   "cell_type": "markdown",
   "metadata": {},
   "source": [
    "## Thinking1：在推荐系统中，FM和MF哪个应用的更多，为什么"
   ]
  },
  {
   "cell_type": "markdown",
   "metadata": {},
   "source": [
    " - FM 应用的更加多一点，因为FM 相对于 MF 来说考虑的维度更加的多，更加贴合实际工业界的应用场景"
   ]
  },
  {
   "cell_type": "markdown",
   "metadata": {},
   "source": [
    "## Thinking2：FFM与FM有哪些区别？"
   ]
  },
  {
   "cell_type": "markdown",
   "metadata": {},
   "source": [
    "FFM 更加精确的计算了 Vi 和 Vj,具体来说：\n",
    "1. FM算法\n",
    "- 每个特征只有一个隐向量\n",
    "- FM 是 FFM 的特列\n",
    "- 计算速度较快，准确性较差\n",
    "\n",
    "2. FFM 算法\n",
    "- 每个特征有多个隐向量\n",
    "- 使用那个，取决于和那个向量进行点乘\n",
    "- 计算准确度较高，计算速度较慢"
   ]
  },
  {
   "cell_type": "markdown",
   "metadata": {},
   "source": [
    "## Thinking3：DeepFM相比于FM解决了哪些问题，原理是怎样的\n"
   ]
  },
  {
   "cell_type": "markdown",
   "metadata": {},
   "source": [
    "- DeepFM 解决了 FM 一般只考虑 2 阶特征组合的问题，实现了既考虑低阶（1阶 + 2 阶），又能考虑到高阶特征==> DeepFM = FM + DNN \n",
    "- 原理：\n",
    "1. 提取低阶（low order）的特征 ==> 因子分解机FM既可以做一阶特征建模，也可以做二阶特征建模\n",
    "2. 提取高阶（high order)特征 ==> 用神经网络 DNN 来提取高阶的特征\n",
    "3. end-to-end 共享特征输入\n"
   ]
  },
  {
   "cell_type": "markdown",
   "metadata": {},
   "source": [
    "## Thinking4：Surprise工具中的baseline算法原理是怎样的？BaselineOnly和KNNBaseline有什么区别？"
   ]
  },
  {
   "cell_type": "markdown",
   "metadata": {},
   "source": [
    "- Baseline 算法的思想主要就是设立基线，并引入用户偏差以及item的偏差\n",
    "     \n",
    "            𝑟 ̂_𝑢𝑖 = 𝑏_𝑢𝑖 = 𝜇 + 𝑏_𝑢 + 𝑏_𝑖\n",
    "            \n",
    "            \n",
    " 1. 𝜇 ：所有用户对电影评分的均值\n",
    " 2. 𝑏_𝑢𝑖: 待求的基线模型中用户 u 给物体打分的预估值\n",
    " 3. 𝑏_𝑢 ：user 偏差（如果用户比较严苛，打分相对偏低，则 𝑏_𝑢 < 0,反之，𝑏_𝑢 > 0\n",
    " 4. 𝑏_𝑖 : item偏差，反映商品受欢迎的程度\n",
    "\n",
    "\n",
    "\n",
    "- KNNBaseline = KNN + Baseline\n",
    "\n",
    "\n",
    "KNNBaseline考虑到用户打分的偏差，偏差计算时基于baseline\n",
    "\n"
   ]
  },
  {
   "cell_type": "markdown",
   "metadata": {},
   "source": [
    "## Thinking5：基于邻域的协同过滤都有哪些算法，请简述原理"
   ]
  },
  {
   "cell_type": "markdown",
   "metadata": {},
   "source": [
    "### 基于领域的协同过滤算法的种类：\n",
    "- Slopeone\n",
    "- KNNBasic\n",
    "- KNNWithMeans\n",
    "- KNNWithZScore\n",
    "- KNNBaseline\n",
    "\n",
    "### 基于邻域的协同过滤的原理\n",
    "\n",
    "#### 1.基于用户的协同过滤（User CF)的原理\n",
    "- 利用行为的相似度计算用户的相似度\n",
    "- Step1:找到和目标兴趣相似的用户集合（可以利用 Jaccard相似度、余弦相似度、基于流行度改进的相似度）\n",
    "- Step2:用户 u 对物品的相似度，等价于 K 个邻居对物品 i 的兴趣度\n",
    "- Step3:为用户生成推荐列表\n",
    "\n",
    "\n",
    "#### 2.基于物品的协同过滤（ItenmCF )\n",
    "- 利用行为的相似度计算物品的相似度\n",
    "- Step1:计算物品之间的相似度\n",
    "- Step2:用户 u 对物品的兴趣度，等价于物品 i 的 K 个邻居物品，受到用户 u 的兴趣度\n",
    "- Step3:和用户历史上感兴趣的物品越相似的物品，越有可能在用户的推荐列表中获得比较高的排名\n",
    "\n",
    "\n",
    "预测用户 u 对物体的兴趣度，去掉用户 U 已经喜欢过的物品，剩下按照从大到小进行排序"
   ]
  },
  {
   "cell_type": "markdown",
   "metadata": {},
   "source": [
    "## Action1：使用libfm工具对movielens进行评分预测，采用SGD优化算法\n"
   ]
  },
  {
   "cell_type": "markdown",
   "metadata": {},
   "source": [
    "- step1:对 rating.csv  转化为 libfm 格式\n",
    "\n",
    "\n",
    "`perl triple_format_to_libfm.pl -in ratings.dat -target 2 -delete_column 3 -separator \"::\"\n",
    "  `\n",
    "\n",
    "\n",
    "- step2:使用 libfm 进行训练 ，输出结果文件 Movielens_predict_out.txt\n",
    "\n",
    "`libFM -task r -train ratings.dat.libfm  -test ratings.dat.libfm  -dim ’1,1,8’ -iter 100 -method sgd -learn_rate 0.01 -regular ’0,0,0.01’ -init_stdev 0.1 -out movielens_out.txt`\n",
    "#### P.S:结果见附件 movielens_out.csv"
   ]
  },
  {
   "cell_type": "markdown",
   "metadata": {},
   "source": [
    "## Action2：使用基于邻域的协同过滤（KNNBasic, KNNWithMeans, KNNWithZScore, KNNBaseline中的任意一种）对MovieLens数据集进行协同过滤，采用k折交叉验证(k=3)，输出每次计算的RMSE, MAE\n"
   ]
  },
  {
   "cell_type": "code",
   "execution_count": 23,
   "metadata": {},
   "outputs": [
    {
     "name": "stdout",
     "output_type": "stream",
     "text": [
      " KNNWithMeans 的RMSE值 和 MAE 值为：\n",
      "Computing the msd similarity matrix...\n",
      "Done computing similarity matrix.\n",
      "RMSE: 0.8549\n",
      "MAE:  0.6537\n",
      "Computing the msd similarity matrix...\n",
      "Done computing similarity matrix.\n",
      "RMSE: 0.8570\n",
      "MAE:  0.6555\n",
      "Computing the msd similarity matrix...\n",
      "Done computing similarity matrix.\n",
      "RMSE: 0.8568\n",
      "MAE:  0.6554\n",
      "使用  KNNWithMeans 预测的结果是：\n",
      "user: 196        item: 302        r_ui = 4.00   est = 4.04   {'actual_k': 50, 'was_impossible': False}\n",
      "357.51154112815857\n"
     ]
    }
   ],
   "source": [
    "# 目前colab已经集成加载google drive云端硬盘的功能了,为了交作业有输出，我又在本地跑了下\n",
    "from surprise import KNNWithMeans\n",
    "from surprise import Dataset\n",
    "from surprise.model_selection import cross_validate\n",
    "from surprise import Reader\n",
    "from surprise import accuracy\n",
    "from surprise.model_selection import KFold\n",
    "import pandas as pd\n",
    "import time\n",
    "\n",
    "\n",
    "time1=time.time()\n",
    "# 数据读取\n",
    "reader = Reader(line_format='user item rating timestamp', sep=',', skip_lines=1)\n",
    "data = Dataset.load_from_file('F:\\\\Jupyter_notebook_workdir\\\\BI\\\\week3\\\\MovieLens\\\\ratings.csv', reader=reader)\n",
    "train_set = data.build_full_trainset()\n",
    "\n",
    "# 使用 KNNWithMeans\n",
    "algo = KNNWithMeans(k=50, sim_options={'user_based': False, 'verbose': 'True'})\n",
    "\n",
    "# 定义K折交叉验证迭代器，K=3\n",
    "kf = KFold(n_splits=3)\n",
    "print(' KNNWithMeans 的RMSE值 和 MAE 值为：')\n",
    "for trainset, testset in kf.split(data):\n",
    "    # 训练并预测\n",
    "    algo_funk.fit(trainset)  \n",
    "    predictions_funk = algo_funk.test(testset)\n",
    "    # 计算RMSE\n",
    "    accuracy.rmse(predictions_funk, verbose=True)\n",
    "    accuracy.mae(predictions_funk, verbose=True)\n",
    "\n",
    "\n",
    "\n",
    "uid = str(196)\n",
    "iid = str(302)\n",
    "# 输出uid对iid的预测结果\n",
    "print('使用  KNNWithMeans 预测的结果是：')\n",
    "pred = algo_funk.predict(uid, iid, r_ui=4, verbose=True)\n",
    "\n",
    "time2=time.time()\n",
    "print(time2-time1)"
   ]
  },
  {
   "cell_type": "code",
   "execution_count": null,
   "metadata": {},
   "outputs": [],
   "source": []
  }
 ],
 "metadata": {
  "kernelspec": {
   "display_name": "Python 3",
   "language": "python",
   "name": "python3"
  },
  "language_info": {
   "codemirror_mode": {
    "name": "ipython",
    "version": 3
   },
   "file_extension": ".py",
   "mimetype": "text/x-python",
   "name": "python",
   "nbconvert_exporter": "python",
   "pygments_lexer": "ipython3",
   "version": "3.7.7"
  }
 },
 "nbformat": 4,
 "nbformat_minor": 4
}
